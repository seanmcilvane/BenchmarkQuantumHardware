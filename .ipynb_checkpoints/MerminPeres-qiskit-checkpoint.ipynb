{
 "cells": [
  {
   "cell_type": "code",
   "execution_count": 1,
   "id": "08070821",
   "metadata": {},
   "outputs": [],
   "source": [
    "from qiskit import *\n",
    "from qiskit import QuantumCircuit\n",
    "import numpy as np\n",
    "import matplotlib\n",
    "from matplotlib import pyplot as plt\n",
    "from qiskit.visualization import plot_histogram\n",
    "from MerminPeres import MerminPeresCircuit"
   ]
  },
  {
   "cell_type": "markdown",
   "id": "0c5dc031",
   "metadata": {},
   "source": [
    "Simulating the MerminPeresCircuit for each possible combination of x and y. Since this is a noiseless simulation, we expect to measure '0000' everytime"
   ]
  },
  {
   "cell_type": "code",
   "execution_count": 2,
   "id": "8b2975f2",
   "metadata": {},
   "outputs": [
    {
     "name": "stdout",
     "output_type": "stream",
     "text": [
      "{'0000': 1024}\n",
      "{'0000': 1024}\n",
      "{'0000': 1024}\n",
      "{'0000': 1024}\n",
      "{'0000': 1024}\n",
      "{'0000': 1024}\n",
      "{'0000': 1024}\n",
      "{'0000': 1024}\n",
      "{'0000': 1024}\n"
     ]
    },
    {
     "data": {
      "image/png": "[encoded data removed]",
      "text/plain": [
       "<Figure size 504x360 with 1 Axes>"
      ]
     },
     "metadata": {
      "needs_background": "light"
     },
     "output_type": "display_data"
    }
   ],
   "source": [
    "backend = Aer.get_backend('qasm_simulator')\n",
    "\n",
    "for X in range(3):\n",
    "        \n",
    "    for Y in range(3):\n",
    "    \n",
    "        qc = MerminPeresCircuit(X, Y)\n",
    "        \n",
    "        t_qc = transpile(qc, backend)\n",
    "\n",
    "        # Run and get counts\n",
    "    \n",
    "        job_sim = backend.run(t_qc, shots = 1024)\n",
    "        result_sim = job_sim.result()\n",
    "        counts = result_sim.get_counts(qc)\n",
    "        print(counts) \n",
    "fig = plot_histogram(counts)"
   ]
  },
  {
   "cell_type": "markdown",
   "id": "4904cb5f",
   "metadata": {},
   "source": [
    "# Running on real devices"
   ]
  },
  {
   "cell_type": "code",
   "execution_count": 3,
   "id": "bf5f732c",
   "metadata": {},
   "outputs": [],
   "source": [
    "IBMQ.load_account()\n",
    "IBMQ.providers()\n",
    "provider = IBMQ.get_provider(hub = 'ibm-q')"
   ]
  },
  {
   "cell_type": "code",
   "execution_count": 4,
   "id": "07155e32",
   "metadata": {},
   "outputs": [],
   "source": [
    "qdevice = 'manila'\n",
    "device = provider.get_backend('ibmq_{0}'.format(qdevice))"
   ]
  },
  {
   "cell_type": "markdown",
   "id": "2481c43b",
   "metadata": {},
   "source": [
    "Running all situations in the Mermin-Peres game "
   ]
  },
  {
   "cell_type": "code",
   "execution_count": null,
   "id": "4b7d2aa9",
   "metadata": {},
   "outputs": [
    {
     "name": "stdout",
     "output_type": "stream",
     "text": [
      "Running on manila for x = 0 and y = 0\n",
      "6346f9cd8caa1ddf651b1e74\n",
      "Job Status: job is queued (34)    "
     ]
    }
   ],
   "source": [
    "counts = {}\n",
    "for x in range(3):\n",
    "    for y in range(3):\n",
    "        print(\"Running on\", qdevice, \"for x =\", x, \"and y =\", y)\n",
    "        qc = MerminPeresCircuit(x, y)\n",
    "        job = execute(qc, backend = device, shots = 1024)\n",
    "        print(job.job_id())\n",
    "        from qiskit.tools.monitor import job_monitor\n",
    "        job_monitor(job)\n",
    "        device_result = job.result()\n",
    "\n",
    "        counts[\"counts{0}{1}\".format(x,y)] = device_result.get_counts(qc) \n",
    "        fig = plot_histogram(counts[\"counts{0}{1}\".format(x,y)])\n",
    "        fig.savefig('merminperes-ibm-{2}-{0}{1}.png'.format(x, y, qdevice))\n",
    "        \n",
    "        file = open('merminperes-ibm-{2}-{0}{1}-counts.txt'.format(x, y, qdevice), 'a')\n",
    "        file.write(str(counts[\"counts{0}{1}\".format(x,y)]))\n",
    "        file.close()"
   ]
  },
  {
   "cell_type": "code",
   "execution_count": null,
   "id": "5fee1a31",
   "metadata": {},
   "outputs": [],
   "source": [
    "job_monitor(job)"
   ]
  },
  {
   "cell_type": "markdown",
   "id": "ada52cf8",
   "metadata": {},
   "source": [
    "Printing the counts for a specific instance of the Mermin-Peres game (ex: x = 1, y = 2)"
   ]
  },
  {
   "cell_type": "code",
   "execution_count": null,
   "id": "fe4ed85e",
   "metadata": {},
   "outputs": [],
   "source": [
    "print(counts['counts12'])"
   ]
  },
  {
   "cell_type": "code",
   "execution_count": null,
   "id": "45458272",
   "metadata": {},
   "outputs": [],
   "source": [
    "\n",
    "\n",
    "all_counts = {}\n",
    "all_counts['0000'] = 0 \n",
    "all_counts['0001'] = 0\n",
    "all_counts['0010'] = 0\n",
    "all_counts['0011'] = 0 \n",
    "all_counts['0100'] = 0\n",
    "all_counts['0101'] = 0\n",
    "all_counts['0110'] = 0 \n",
    "all_counts['0111'] = 0 \n",
    "\n",
    "all_counts['1000'] = 0 \n",
    "all_counts['1001'] = 0\n",
    "all_counts['1010'] = 0\n",
    "all_counts['1011'] = 0 \n",
    "all_counts['1100'] = 0\n",
    "all_counts['1101'] = 0\n",
    "all_counts['1110'] = 0 \n",
    "all_counts['1111'] = 0 \n",
    "\n",
    "for key in counts:\n",
    "    \n",
    "    for measurement in counts[key]:\n",
    "        \n",
    "        all_counts[measurement] += counts[key][measurement]\n",
    "        \n",
    "print(all_counts)\n",
    "fig = plot_histogram(all_counts)\n",
    "plt.axhline(8/9, color = 'r', linestyle = 'dashed', linewidth=2)\n",
    "fig.savefig('merminperes-ibm-{0}.png'.format(qdevice))\n",
    "\n",
    "\n",
    "try:\n",
    "    file = open('merminperes-ibm-{0}-counts.txt'.format(qdevice), 'a')\n",
    "    file.write(str(all_counts))\n",
    "    file.close()\n",
    "  \n",
    "except:\n",
    "    print(\"Unable to append to file\")\n"
   ]
  },
  {
   "cell_type": "code",
   "execution_count": null,
   "id": "9463e442",
   "metadata": {},
   "outputs": [],
   "source": []
  }
 ],
 "metadata": {
  "kernelspec": {
   "display_name": "Python 3 (ipykernel)",
   "language": "python",
   "name": "python3"
  },
  "language_info": {
   "codemirror_mode": {
    "name": "ipython",
    "version": 3
   },
   "file_extension": ".py",
   "mimetype": "text/x-python",
   "name": "python",
   "nbconvert_exporter": "python",
   "pygments_lexer": "ipython3",
   "version": "3.9.5"
  }
 },
 "nbformat": 4,
 "nbformat_minor": 5
}
