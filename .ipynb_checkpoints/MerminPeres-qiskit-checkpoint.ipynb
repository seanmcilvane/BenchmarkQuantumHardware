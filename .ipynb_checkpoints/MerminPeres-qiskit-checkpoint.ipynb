{
 "cells": [
  {
   "cell_type": "code",
   "execution_count": 1,
   "id": "08070821",
   "metadata": {},
   "outputs": [],
   "source": [
    "from qiskit import *\n",
    "from qiskit import QuantumCircuit\n",
    "import numpy as np\n",
    "import matplotlib\n",
    "from matplotlib import pyplot as plt\n",
    "from qiskit.visualization import plot_histogram\n",
    "from MerminPeres import MerminPeresCircuit"
   ]
  },
  {
   "cell_type": "markdown",
   "id": "0c5dc031",
   "metadata": {},
   "source": [
    "Simulating the MerminPeresCircuit for each possible combination of x and y. Since this is a noiseless simulation, we expect to measure '0000' everytime"
   ]
  },
  {
   "cell_type": "code",
   "execution_count": 2,
   "id": "8b2975f2",
   "metadata": {},
   "outputs": [
    {
     "name": "stdout",
     "output_type": "stream",
     "text": [
      "{'0000 0000': 1024}\n",
      "{'0000 0000': 1024}\n",
      "{'0000 0000': 1024}\n",
      "{'0000 0000': 1024}\n",
      "{'0000 0000': 1024}\n",
      "{'0000 0000': 1024}\n",
      "{'0000 0000': 1024}\n",
      "{'0000 0000': 1024}\n",
      "{'0000 0000': 1024}\n"
     ]
    }
   ],
   "source": [
    "backend = Aer.get_backend('qasm_simulator')\n",
    "\n",
    "for X in range(3):\n",
    "        \n",
    "    for Y in range(3):\n",
    "    \n",
    "        qc = MerminPeresCircuit(X, Y)\n",
    "        \n",
    "        t_qc = transpile(qc, backend)\n",
    "\n",
    "        # Run and get counts\n",
    "    \n",
    "        job_sim = backend.run(t_qc, shots = 1024)\n",
    "        result_sim = job_sim.result()\n",
    "        counts = result_sim.get_counts(qc)\n",
    "        print(counts) \n",
    "        "
   ]
  },
  {
   "cell_type": "markdown",
   "id": "4904cb5f",
   "metadata": {},
   "source": [
    "# Running on real devices"
   ]
  },
  {
   "cell_type": "code",
   "execution_count": 4,
   "id": "bf5f732c",
   "metadata": {},
   "outputs": [],
   "source": [
    "IBMQ.load_account()\n",
    "IBMQ.providers()\n",
    "provider = IBMQ.get_provider(hub = 'ibm-q')\n"
   ]
  },
  {
   "cell_type": "code",
   "execution_count": 7,
   "id": "07155e32",
   "metadata": {},
   "outputs": [],
   "source": [
    "qdevice = 'quito'\n",
    "device = provider.get_backend('ibmq_{0}'.format(qdevice))"
   ]
  },
  {
   "cell_type": "markdown",
   "id": "2481c43b",
   "metadata": {},
   "source": [
    "Running a specific situation in the Mermin-Peres game "
   ]
  },
  {
   "cell_type": "code",
   "execution_count": 22,
   "id": "6389c936",
   "metadata": {},
   "outputs": [
    {
     "data": {
      "image/png": "[encoded data removed]",
      "text/plain": [
       "<Figure size 504x360 with 1 Axes>"
      ]
     },
     "metadata": {
      "needs_background": "light"
     },
     "output_type": "display_data"
    }
   ],
   "source": [
    "qc = MerminPeresCircuit(0, 1)\n",
    "job = execute(qc, backend = device, shots = 1024)\n",
    "print(job.job_id())\n",
    "from qiskit.tools.monitor import job_monitor\n",
    "job_monitor(job)\n",
    "device_result = job.result()\n",
    "\n",
    "counts_01 = device_result.get_counts(qc) \n",
    "\n",
    "fig = plot_histogram(counts_01)"
   ]
  },
  {
   "cell_type": "code",
   "execution_count": 6,
   "id": "4b7d2aa9",
   "metadata": {},
   "outputs": [
    {
     "name": "stdout",
     "output_type": "stream",
     "text": [
      "Running for x = 0 and y = 0\n",
      "6344ce64d31ce727a4d80fb4\n",
      "Job Status: job is queued (28)      "
     ]
    },
    {
     "ename": "KeyboardInterrupt",
     "evalue": "",
     "output_type": "error",
     "traceback": [
      "\u001b[0;31m---------------------------------------------------------------------------\u001b[0m",
      "\u001b[0;31mKeyboardInterrupt\u001b[0m                         Traceback (most recent call last)",
      "Input \u001b[0;32mIn [6]\u001b[0m, in \u001b[0;36m<cell line: 2>\u001b[0;34m()\u001b[0m\n\u001b[1;32m      7\u001b[0m \u001b[38;5;28mprint\u001b[39m(job\u001b[38;5;241m.\u001b[39mjob_id())\n\u001b[1;32m      8\u001b[0m \u001b[38;5;28;01mfrom\u001b[39;00m \u001b[38;5;21;01mqiskit\u001b[39;00m\u001b[38;5;21;01m.\u001b[39;00m\u001b[38;5;21;01mtools\u001b[39;00m\u001b[38;5;21;01m.\u001b[39;00m\u001b[38;5;21;01mmonitor\u001b[39;00m \u001b[38;5;28;01mimport\u001b[39;00m job_monitor\n\u001b[0;32m----> 9\u001b[0m \u001b[43mjob_monitor\u001b[49m\u001b[43m(\u001b[49m\u001b[43mjob\u001b[49m\u001b[43m)\u001b[49m\n\u001b[1;32m     10\u001b[0m device_result \u001b[38;5;241m=\u001b[39m job\u001b[38;5;241m.\u001b[39mresult()\n\u001b[1;32m     12\u001b[0m counts[\u001b[38;5;124m\"\u001b[39m\u001b[38;5;124mcounts\u001b[39m\u001b[38;5;132;01m{0}\u001b[39;00m\u001b[38;5;132;01m{1}\u001b[39;00m\u001b[38;5;124m\"\u001b[39m\u001b[38;5;241m.\u001b[39mformat(x,y)] \u001b[38;5;241m=\u001b[39m device_result\u001b[38;5;241m.\u001b[39mget_counts(qc) \n",
      "File \u001b[0;32m~/anaconda3/envs/QC/lib/python3.9/site-packages/qiskit/tools/monitor/job_monitor.py:83\u001b[0m, in \u001b[0;36mjob_monitor\u001b[0;34m(job, interval, quiet, output)\u001b[0m\n\u001b[1;32m     80\u001b[0m \u001b[38;5;28;01melse\u001b[39;00m:\n\u001b[1;32m     81\u001b[0m     _interval_set \u001b[38;5;241m=\u001b[39m \u001b[38;5;28;01mTrue\u001b[39;00m\n\u001b[0;32m---> 83\u001b[0m \u001b[43m_text_checker\u001b[49m\u001b[43m(\u001b[49m\u001b[43mjob\u001b[49m\u001b[43m,\u001b[49m\u001b[43m \u001b[49m\u001b[43minterval\u001b[49m\u001b[43m,\u001b[49m\u001b[43m \u001b[49m\u001b[43m_interval_set\u001b[49m\u001b[43m,\u001b[49m\n\u001b[1;32m     84\u001b[0m \u001b[43m              \u001b[49m\u001b[43mquiet\u001b[49m\u001b[38;5;241;43m=\u001b[39;49m\u001b[43mquiet\u001b[49m\u001b[43m,\u001b[49m\u001b[43m \u001b[49m\u001b[43moutput\u001b[49m\u001b[38;5;241;43m=\u001b[39;49m\u001b[43moutput\u001b[49m\u001b[43m)\u001b[49m\n",
      "File \u001b[0;32m~/anaconda3/envs/QC/lib/python3.9/site-packages/qiskit/tools/monitor/job_monitor.py:40\u001b[0m, in \u001b[0;36m_text_checker\u001b[0;34m(job, interval, _interval_set, quiet, output)\u001b[0m\n\u001b[1;32m     38\u001b[0m     \u001b[38;5;28mprint\u001b[39m(\u001b[38;5;124m'\u001b[39m\u001b[38;5;130;01m\\r\u001b[39;00m\u001b[38;5;132;01m%s\u001b[39;00m\u001b[38;5;124m: \u001b[39m\u001b[38;5;132;01m%s\u001b[39;00m\u001b[38;5;124m'\u001b[39m \u001b[38;5;241m%\u001b[39m (\u001b[38;5;124m'\u001b[39m\u001b[38;5;124mJob Status\u001b[39m\u001b[38;5;124m'\u001b[39m, msg), end\u001b[38;5;241m=\u001b[39m\u001b[38;5;124m'\u001b[39m\u001b[38;5;124m'\u001b[39m, file\u001b[38;5;241m=\u001b[39moutput)\n\u001b[1;32m     39\u001b[0m \u001b[38;5;28;01mwhile\u001b[39;00m status\u001b[38;5;241m.\u001b[39mname \u001b[38;5;129;01mnot\u001b[39;00m \u001b[38;5;129;01min\u001b[39;00m [\u001b[38;5;124m'\u001b[39m\u001b[38;5;124mDONE\u001b[39m\u001b[38;5;124m'\u001b[39m, \u001b[38;5;124m'\u001b[39m\u001b[38;5;124mCANCELLED\u001b[39m\u001b[38;5;124m'\u001b[39m, \u001b[38;5;124m'\u001b[39m\u001b[38;5;124mERROR\u001b[39m\u001b[38;5;124m'\u001b[39m]:\n\u001b[0;32m---> 40\u001b[0m     \u001b[43mtime\u001b[49m\u001b[38;5;241;43m.\u001b[39;49m\u001b[43msleep\u001b[49m\u001b[43m(\u001b[49m\u001b[43minterval\u001b[49m\u001b[43m)\u001b[49m\n\u001b[1;32m     41\u001b[0m     status \u001b[38;5;241m=\u001b[39m job\u001b[38;5;241m.\u001b[39mstatus()\n\u001b[1;32m     42\u001b[0m     msg \u001b[38;5;241m=\u001b[39m status\u001b[38;5;241m.\u001b[39mvalue\n",
      "\u001b[0;31mKeyboardInterrupt\u001b[0m: "
     ]
    }
   ],
   "source": [
    "counts = {}\n",
    "for x in range(3):\n",
    "    for y in range(3):\n",
    "        print(\"Running for x =\", x, \"and y =\", y)\n",
    "        qc = MerminPeresCircuit(x, y)\n",
    "        job = execute(qc, backend = device, shots = 1024)\n",
    "        print(job.job_id())\n",
    "        from qiskit.tools.monitor import job_monitor\n",
    "        job_monitor(job)\n",
    "        device_result = job.result()\n",
    "\n",
    "        counts[\"counts{0}{1}\".format(x,y)] = device_result.get_counts(qc) \n",
    "        fig = plot_histogram(counts[\"counts{0}{1}\".format(x,y)])\n",
    "        fig.savefig('merminperes-ibm-{2}-{0}{1}.png'.format(x, y, qdevice))\n",
    "        \n",
    "        file = open('merminperes-ibm-{2}-{0}{1}-counts.txt'.format(x, y, qdevice), 'a')\n",
    "        file.write(str(counts[\"counts{0}{1}\".format(x,y)]))\n",
    "        file.close()"
   ]
  },
  {
   "cell_type": "markdown",
   "id": "ada52cf8",
   "metadata": {},
   "source": [
    "Printing the counts for a specific instance of the Mermin-Peres game (ex: x = 1, y = 2)"
   ]
  },
  {
   "cell_type": "code",
   "execution_count": 44,
   "id": "fe4ed85e",
   "metadata": {},
   "outputs": [
    {
     "name": "stdout",
     "output_type": "stream",
     "text": [
      "{'0000 0000': 878, '0001 0000': 19, '0010 0000': 24, '0011 0000': 8, '0100 0000': 47, '0101 0000': 3, '0110 0000': 10, '1000 0000': 28, '1010 0000': 3, '1100 0000': 2, '1110 0000': 2}\n"
     ]
    }
   ],
   "source": [
    "print(counts['counts12'])"
   ]
  },
  {
   "cell_type": "code",
   "execution_count": 64,
   "id": "45458272",
   "metadata": {},
   "outputs": [
    {
     "name": "stdout",
     "output_type": "stream",
     "text": [
      "{'0000 0000': 7992, '0001 0000': 173, '0010 0000': 229, '0011 0000': 22, '0100 0000': 393, '0101 0000': 27, '0110 0000': 103, '0111 0000': 5, '1000 0000': 182, '1001 0000': 8, '1010 0000': 55, '1011 0000': 2, '1100 0000': 10, '1101 0000': 0, '1110 0000': 15, '1111 0000': 0}\n"
     ]
    },
    {
     "data": {
      "image/png": "[encoded data removed]",
      "text/plain": [
       "<Figure size 504x360 with 1 Axes>"
      ]
     },
     "metadata": {
      "needs_background": "light"
     },
     "output_type": "display_data"
    }
   ],
   "source": [
    "\n",
    "\n",
    "all_counts = {}\n",
    "all_counts['0000 0000'] = 0 \n",
    "all_counts['0001 0000'] = 0\n",
    "all_counts['0010 0000'] = 0\n",
    "all_counts['0011 0000'] = 0 \n",
    "all_counts['0100 0000'] = 0\n",
    "all_counts['0101 0000'] = 0\n",
    "all_counts['0110 0000'] = 0 \n",
    "all_counts['0111 0000'] = 0 \n",
    "\n",
    "all_counts['1000 0000'] = 0 \n",
    "all_counts['1001 0000'] = 0\n",
    "all_counts['1010 0000'] = 0\n",
    "all_counts['1011 0000'] = 0 \n",
    "all_counts['1100 0000'] = 0\n",
    "all_counts['1101 0000'] = 0\n",
    "all_counts['1110 0000'] = 0 \n",
    "all_counts['1111 0000'] = 0 \n",
    "\n",
    "for key in counts:\n",
    "    \n",
    "    for measurement in counts[key]:\n",
    "        \n",
    "        all_counts[measurement] += counts[key][measurement]\n",
    "        \n",
    "print(all_counts)\n",
    "fig = plot_histogram(all_counts)\n",
    "plt.axhline(8/9, color = 'r', linestyle = 'dashed', linewidth=2)\n",
    "fig.savefig('merminperes-ibm-{0}.png'.format(qdevice))\n",
    "\n",
    "\n",
    "try:\n",
    "    file = open('merminperes-ibm-{0}-counts.txt'.format(qdevice), 'a')\n",
    "    file.write(str(all_counts))\n",
    "    file.close()\n",
    "  \n",
    "except:\n",
    "    print(\"Unable to append to file\")\n"
   ]
  }
 ],
 "metadata": {
  "kernelspec": {
   "display_name": "Python 3 (ipykernel)",
   "language": "python",
   "name": "python3"
  },
  "language_info": {
   "codemirror_mode": {
    "name": "ipython",
    "version": 3
   },
   "file_extension": ".py",
   "mimetype": "text/x-python",
   "name": "python",
   "nbconvert_exporter": "python",
   "pygments_lexer": "ipython3",
   "version": "3.9.5"
  }
 },
 "nbformat": 4,
 "nbformat_minor": 5
}
